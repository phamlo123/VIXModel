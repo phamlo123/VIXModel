{
 "cells": [
  {
   "cell_type": "code",
   "execution_count": 1,
   "metadata": {
    "pycharm": {
     "is_executing": true,
     "name": "#%%\n"
    }
   },
   "outputs": [
    {
     "name": "stdout",
     "output_type": "stream",
     "text": [
      "            id  date_from_1996  priceFeatures  futureRealizedVariance\n",
      "0            2               3   8.675390e-07                     NaN\n",
      "1            3               3   1.363280e-06                     NaN\n",
      "2            4               3   1.487210e-06                     NaN\n",
      "3            5               3   1.611140e-06                     NaN\n",
      "4            6               3   1.735080e-06                     NaN\n",
      "...        ...             ...            ...                     ...\n",
      "304513  304515            9131   3.763590e-06                0.006439\n",
      "304514  304516            9131   3.660750e-06                0.006439\n",
      "304515  304517            9131   3.593370e-06                0.006439\n",
      "304516  304518            9131   3.567370e-06                0.006439\n",
      "304517  304519            9131   3.572100e-06                0.006439\n",
      "\n",
      "[304518 rows x 4 columns]\n"
     ]
    }
   ],
   "source": [
    "import database\n",
    "\n",
    "data = database.getDataAndPriceFeaturesAndRealizedVarianceData()\n",
    "print(data)\n",
    "\n",
    "\n",
    "\n"
   ]
  },
  {
   "cell_type": "code",
   "execution_count": null,
   "metadata": {},
   "outputs": [],
   "source": []
  }
 ],
 "metadata": {
  "kernelspec": {
   "display_name": "PyCharm (PredictingVix)",
   "language": "python",
   "name": "pycharm-564ecd91"
  },
  "language_info": {
   "codemirror_mode": {
    "name": "ipython",
    "version": 3
   },
   "file_extension": ".py",
   "mimetype": "text/x-python",
   "name": "python",
   "nbconvert_exporter": "python",
   "pygments_lexer": "ipython3",
   "version": "3.8.0"
  }
 },
 "nbformat": 4,
 "nbformat_minor": 1
}
