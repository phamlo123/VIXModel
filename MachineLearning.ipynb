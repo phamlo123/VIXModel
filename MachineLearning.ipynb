{
 "cells": [
  {
   "cell_type": "code",
   "execution_count": null,
   "metadata": {
    "pycharm": {
     "is_executing": true,
     "name": "#%%\n"
    }
   },
   "outputs": [
    {
     "name": "stdout",
     "output_type": "stream",
     "text": [
      "            id  date_from_1996  priceFeatures  futureRealizedVariance\n",
      "0            2               3   8.675390e-07                     NaN\n",
      "1            3               3   1.363280e-06                     NaN\n",
      "2            4               3   1.487210e-06                     NaN\n",
      "3            5               3   1.611140e-06                     NaN\n",
      "4            6               3   1.735080e-06                     NaN\n",
      "...        ...             ...            ...                     ...\n",
      "304513  304515            9131   3.763590e-06                0.006439\n",
      "304514  304516            9131   3.660750e-06                0.006439\n",
      "304515  304517            9131   3.593370e-06                0.006439\n",
      "304516  304518            9131   3.567370e-06                0.006439\n",
      "304517  304519            9131   3.572100e-06                0.006439\n",
      "\n",
      "[304518 rows x 4 columns]\n"
     ]
    }
   ],
   "source": [
    "from sklearn.datasets import make_regression\n",
    "from sklearn.model_selection import train_test_split\n",
    "import pandas as pd\n",
    "from sklearn.model_selection import TimeSeriesSplit\n",
    "from sklearn.neural_network import MLPRegressor\n",
    "\n",
    "import SQLconnection\n",
    "import database\n",
    "import numpy as np\n",
    "\n",
    "data = database.getDataAndPriceFeaturesAndRealizedVarianceData ()\n",
    "\n",
    "\n",
    "def formatting ():\n",
    "    listOfDates = data['date_from_1996'].tolist ()\n",
    "    distinctListOfDates = []\n",
    "    for d in listOfDates:\n",
    "        if d not in distinctListOfDates:\n",
    "            distinctListOfDates.append (d)\n",
    "\n",
    "    mapOfdatesAndOthers = {}\n",
    "    for date in distinctListOfDates:\n",
    "        mapOfdatesAndOthers[date] = (SQLconnection.something (date=date)['priceFeatures'].tolist (),\n",
    "                                     SQLconnection.somethingelse (date=date)['futureRealizedVariance'].tolist ())\n",
    "\n",
    "    return mapOfdatesAndOthers\n",
    "\n",
    "\n",
    "def additionalFormat ():\n",
    "    my_map = formatting ()\n",
    "    keys = my_map.keys ()\n",
    "    X = []\n",
    "    y = []\n",
    "    for item in keys:\n",
    "        X.append (my_map[item][0])\n",
    "        y.append (my_map[item][1])\n",
    "    y = np.array (y)\n",
    "    X = np.array (X)\n",
    "    return X, y\n",
    "\n",
    "def splittingDataAndTrain ():\n",
    "    X, y = additionalFormat ()\n",
    "    time_series_split = TimeSeriesSplit (n_splits=300)\n",
    "    for train_index, test_index in time_series_split.split (X):\n",
    "        X_train, X_test = X[train_index], X[test_index]\n",
    "        y_train, y_test = y[train_index], y[test_index]\n",
    "        regression = MLPRegressor (hidden_layer_sizes=80).fit (X_train, y_train)\n",
    "        regression.predict (X_test)\n",
    "        regression.score (X_test, y_test)\n",
    "\n",
    "splittingDataAndTrain()"
   ]
  },
  {
   "cell_type": "code",
   "execution_count": null,
   "metadata": {},
   "outputs": [],
   "source": []
  },
  {
   "cell_type": "code",
   "execution_count": null,
   "metadata": {},
   "outputs": [],
   "source": [
    "splittingDataAndTrain()"
   ]
  },
  {
   "cell_type": "code",
   "execution_count": null,
   "metadata": {},
   "outputs": [],
   "source": []
  }
 ],
 "metadata": {
  "kernelspec": {
   "display_name": "Python 3 (ipykernel)",
   "language": "python",
   "name": "python3"
  },
  "language_info": {
   "codemirror_mode": {
    "name": "ipython",
    "version": 3
   },
   "file_extension": ".py",
   "mimetype": "text/x-python",
   "name": "python",
   "nbconvert_exporter": "python",
   "pygments_lexer": "ipython3",
   "version": "3.9.7"
  }
 },
 "nbformat": 4,
 "nbformat_minor": 1
}